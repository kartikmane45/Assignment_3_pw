{
  "nbformat": 4,
  "nbformat_minor": 0,
  "metadata": {
    "colab": {
      "provenance": [],
      "authorship_tag": "ABX9TyOIrlu2tNMSHDX/9Qs3yn0J",
      "include_colab_link": true
    },
    "kernelspec": {
      "name": "python3",
      "display_name": "Python 3"
    },
    "language_info": {
      "name": "python"
    }
  },
  "cells": [
    {
      "cell_type": "markdown",
      "metadata": {
        "id": "view-in-github",
        "colab_type": "text"
      },
      "source": [
        "<a href=\"https://colab.research.google.com/github/kartikmane45/physics_wallah_skills_assignments/blob/main/module_5_OOPS_Assignment.ipynb\" target=\"_parent\"><img src=\"https://colab.research.google.com/assets/colab-badge.svg\" alt=\"Open In Colab\"/></a>"
      ]
    },
    {
      "cell_type": "markdown",
      "source": [
        "**1. . What are the five key concepts of Object-Oriented Programming (OOP)?**\n",
        "=>Class: A blueprint for creating objects (instances). A class defines a set of attributes and methods that the objects created from the class will have.\n",
        "Object: An instance of a class. Objects are the entities created based on a class blueprint, containing data (attributes) and methods to manipulate the data.\n",
        "Encapsulation: The practice of bundling data (attributes) and methods (functions) that operate on the data within a single unit, or class. It also refers to restricting access to some of an object's components. This is done using private and public access specifiers.\n",
        "Inheritance: A mechanism for creating a new class from an existing class. The new class (derived class) inherits attributes and methods from the existing class (base class), allowing code reuse and extension.\n",
        "Polymorphism: The ability of different objects to respond to the same method call in a way that is appropriate to their type. It allows objects of different classes to be treated as objects of a common super class."
      ],
      "metadata": {
        "id": "274gnoXKGAXy"
      }
    },
    {
      "cell_type": "markdown",
      "source": [
        "**2. Write a Python class for a `Car` with attributes for `make`, `model`, and `year`. Include a method to display\n",
        "the car's information.**"
      ],
      "metadata": {
        "id": "BMjmZxEWGfcI"
      }
    },
    {
      "cell_type": "code",
      "source": [
        "class Car:\n",
        "    def __init__(self, make, model, year):\n",
        "        self.make = make\n",
        "        self.model = model\n",
        "        self.year = year\n",
        "\n",
        "    def display_info(self):\n",
        "        print(f\"Car Information: {self.year} {self.make} {self.model}\")\n",
        "\n",
        "# Example usage:\n",
        "my_car = Car(\"Toyota\", \"Camry\", 2020)\n",
        "my_car.display_info()\n"
      ],
      "metadata": {
        "colab": {
          "base_uri": "https://localhost:8080/"
        },
        "id": "3EbdXbvMGmc4",
        "outputId": "18f6261e-f5ca-43ab-e05b-2b027ef0f5ce"
      },
      "execution_count": 1,
      "outputs": [
        {
          "output_type": "stream",
          "name": "stdout",
          "text": [
            "Car Information: 2020 Toyota Camry\n"
          ]
        }
      ]
    },
    {
      "cell_type": "markdown",
      "source": [
        "** 3. Explain the difference between instance methods and class methods. Provide an example of each.**"
      ],
      "metadata": {
        "id": "HxxTdVVgHCcn"
      }
    },
    {
      "cell_type": "markdown",
      "source": [
        "=>Instance Methods:\n",
        "Instance methods are the most common type of methods in Python classes. They are bound to an instance of the class and can access and modify instance-specific data (i.e., instance attributes).\n",
        "Usage: They take self as the first parameter, which represents the instance of the class. This allows the method to access and modify instance attributes.\n",
        "Class Methods:\n",
        "Class methods are bound to the class itself, not the instance. They can access and modify class-level data (i.e., class attributes), which is shared among all instances of the class.\n",
        "Usage: They take cls as the first parameter, which represents the class. To define a class method, you need to use the @classmethod decorator."
      ],
      "metadata": {
        "id": "Nmu0m8fpHHIa"
      }
    },
    {
      "cell_type": "code",
      "source": [
        "class Car:\n",
        "    # Class attribute (shared among all instances)\n",
        "    car_type = \"Vehicle\"\n",
        "\n",
        "    def __init__(self, make, model, year):\n",
        "        # Instance attributes (specific to each instance)\n",
        "        self.make = make\n",
        "        self.model = model\n",
        "        self.year = year\n",
        "\n",
        "    # Instance method (can access instance-specific data)\n",
        "    def display_info(self):\n",
        "        print(f\"Car Information: {self.year} {self.make} {self.model}\")\n",
        "\n",
        "    # Class method (can access class-specific data)\n",
        "    @classmethod\n",
        "    def display_car_type(cls):\n",
        "        print(f\"Car Type: {cls.car_type}\")\n",
        "\n",
        "# Example usage:\n",
        "# Creating an instance of Car\n",
        "my_car = Car(\"Toyota\", \"Camry\", 2020)\n",
        "\n",
        "# Calling instance method (needs an instance)\n",
        "my_car.display_info()  # Output: Car Information: 2020 Toyota Camry\n",
        "\n",
        "# Calling class method (can be called on the class or instance)\n",
        "Car.display_car_type()  # Output: Car Type: Vehicle\n",
        "my_car.display_car_type()  # Can also call from instance, Output: Car Type: Vehicle\n"
      ],
      "metadata": {
        "id": "TDeK65W1HNLh"
      },
      "execution_count": null,
      "outputs": []
    },
    {
      "cell_type": "markdown",
      "source": [
        "**4. How does Python implement method overloading? Give an example.**\n",
        "=>In many programming languages like Java or C++, method overloading allows multiple methods in the same class to have the same name but different parameter lists. However, Python does not natively support method overloading in the same way as these languages. In Python, if you define multiple methods with the same name, the last method defined will override the previous ones.\n",
        "\n",
        "Instead, Python uses a technique called default arguments or variable-length arguments (*args and **kwargs) to simulate method overloading."
      ],
      "metadata": {
        "id": "0XV8TQbVHZMF"
      }
    },
    {
      "cell_type": "code",
      "source": [
        "class Calculator:\n",
        "    def add(self, a, b=0, c=0):\n",
        "        \"\"\"Simulates method overloading by using default values.\"\"\"\n",
        "        return a + b + c\n",
        "\n",
        "# Example usage:\n",
        "calc = Calculator()\n",
        "\n",
        "# Calling with one argument\n",
        "print(calc.add(5))  # Output: 5\n",
        "\n",
        "# Calling with two arguments\n",
        "print(calc.add(5, 10))  # Output: 15\n",
        "\n",
        "# Calling with three arguments\n",
        "print(calc.add(5, 10, 15))  # Output: 30\n"
      ],
      "metadata": {
        "id": "u2OUMtGuHf86"
      },
      "execution_count": null,
      "outputs": []
    },
    {
      "cell_type": "markdown",
      "source": [
        "**5. What are the three types of access modifiers in Python? How are they denoted?**\n",
        "=>Public:\n",
        "Definition: Public members (attributes or methods) are accessible from anywhere—inside or outside the class.\n",
        "Denotation: Public members are defined without any special prefix.\n",
        "Protected:\n",
        "Definition: Protected members are intended to be accessible within the class and its subclasses. In Python, this is just a convention and not strictly enforced.\n",
        "Denotation: Protected members are denoted by a single underscore (_) before the name.\n",
        "Private:\n",
        "Definition: Private members are meant to be accessible only within the class and not from outside the class or by subclasses. Python uses name mangling to achieve this, making the members less accessible.\n",
        "Denotation: Private members are denoted by a double underscore (__) before the name."
      ],
      "metadata": {
        "id": "g5v4t7FZHmv4"
      }
    },
    {
      "cell_type": "markdown",
      "source": [
        "**6. Describe the five types of inheritance in Python. Provide a simple example of multiple inheritance.**\n",
        "\n"
      ],
      "metadata": {
        "id": "vGyRDIikHskK"
      }
    },
    {
      "cell_type": "code",
      "source": [
        "# Single Inheritance:\n",
        "# Definition: A class inherits from a single parent class.\n",
        "\n",
        "# Multiple Inheritance:\n",
        "# Definition: A class inherits from more than one parent class.\n",
        "\n",
        "# Hierarchical Inheritance:\n",
        "# Definition: Multiple child classes inherit from the same parent class\n",
        "\n",
        "# Multilevel Inheritance:\n",
        "# Definition: A class inherits from a parent class, which in turn inherits from another parent class, forming a chain of inheritance.\n",
        "\n",
        "# Hybrid Inheritance:\n",
        "# Definition: A combination of two or more types of inheritance, such as multiple and multilevel inheritance.\n",
        "\n",
        "# example of multiple inhertinace\n",
        "class Engine:\n",
        "    def start(self):\n",
        "        print(\"Engine started\")\n",
        "\n",
        "class Battery:\n",
        "    def charge(self):\n",
        "        print(\"Battery charging\")\n",
        "\n",
        "class ElectricCar(Engine, Battery):\n",
        "    pass\n",
        "\n",
        "# Example usage:\n",
        "my_car = ElectricCar()\n",
        "my_car.start()  # Output: Engine started\n",
        "my_car.charge()  # Output: Battery charging\n"
      ],
      "metadata": {
        "id": "v07RnjgiJTu8"
      },
      "execution_count": null,
      "outputs": []
    },
    {
      "cell_type": "markdown",
      "source": [
        "**7. What is the Method Resolution Order (MRO) in Python? How can you retrieve it programmatically?**\n",
        "=>\n",
        "Method Resolution Order (MRO) is the order in which Python looks for a method or attribute in a hierarchy of classes during inheritance, especially in cases involving multiple inheritance. Python follows the C3 Linearization algorithm (also known as C3 superclass linearization) to determine this order."
      ],
      "metadata": {
        "id": "FaDHuyQPHxdw"
      }
    },
    {
      "cell_type": "code",
      "source": [
        "class A:\n",
        "    pass\n",
        "\n",
        "class B(A):\n",
        "    pass\n",
        "\n",
        "class C(A):\n",
        "    pass\n",
        "\n",
        "class D(B, C):\n",
        "    pass\n",
        "\n",
        "# Retrieving the MRO\n",
        "print(D.mro())       # Output: [<class '__main__.D'>, <class '__main__.B'>, <class '__main__.C'>, <class '__main__.A'>, <class 'object'>]\n",
        "print(D.__mro__)     # Output: (<class '__main__.D'>, <class '__main__.B'>, <class '__main__.C'>, <class '__main__.A'>, <class 'object'>)\n"
      ],
      "metadata": {
        "id": "MoCrTXYKMJ63"
      },
      "execution_count": null,
      "outputs": []
    },
    {
      "cell_type": "markdown",
      "source": [
        " **8. Create an abstract base class `Shape` with an abstract method `area()`. Then create two subclasses\n",
        "`Circle` and `Rectangle` that implement the `area()` method.**"
      ],
      "metadata": {
        "id": "z__HJqMtH01f"
      }
    },
    {
      "cell_type": "code",
      "source": [
        "# In Python, you can define an abstract base class using the abc module. Abstract base classes contain abstract methods that must be implemented by any subclass. A method is marked as abstract using the @abstractmethod decorator.\n",
        "# Here’s how to create an abstract base class Shape and two subclasses Circle and Rectangle that implement the area() method.\n",
        "from abc import ABC, abstractmethod\n",
        "import math\n",
        "\n",
        "# Abstract base class\n",
        "class Shape(ABC):\n",
        "    @abstractmethod\n",
        "    def area(self):\n",
        "        \"\"\"Method to compute the area of the shape.\"\"\"\n",
        "        pass\n",
        "\n",
        "# Subclass Circle that implements the area method\n",
        "class Circle(Shape):\n",
        "    def __init__(self, radius):\n",
        "        self.radius = radius\n",
        "\n",
        "    def area(self):\n",
        "        return math.pi * self.radius ** 2\n",
        "\n",
        "# Subclass Rectangle that implements the area method\n",
        "class Rectangle(Shape):\n",
        "    def __init__(self, width, height):\n",
        "        self.width = width\n",
        "        self.height = height\n",
        "\n",
        "    def area(self):\n",
        "        return self.width * self.height\n",
        "\n",
        "# Example usage:\n",
        "circle = Circle(5)\n",
        "rectangle = Rectangle(4, 6)\n",
        "\n",
        "print(f\"Area of the circle: {circle.area():.2f}\")  # Output: Area of the circle: 78.54\n",
        "print(f\"Area of the rectangle: {rectangle.area()}\")  # Output: Area of the rectangle: 24\n"
      ],
      "metadata": {
        "id": "5UCY0fDAMUyC"
      },
      "execution_count": null,
      "outputs": []
    },
    {
      "cell_type": "markdown",
      "source": [
        "**9. Demonstrate polymorphism by creating a function that can work with different shape objects to calculate\n",
        "and print their areas.**"
      ],
      "metadata": {
        "id": "6QAbwvhzH-EO"
      }
    },
    {
      "cell_type": "code",
      "source": [
        "# Polymorphism allows functions to use objects of different classes interchangeably, as long as those classes implement the same interface (methods). In this example, we will use the previously defined Shape, Circle, and Rectangle classes to demonstrate polymorphism by creating a function that can accept different shape objects and calculate their areas.\n",
        "from abc import ABC, abstractmethod\n",
        "import math\n",
        "\n",
        "# Abstract base class\n",
        "class Shape(ABC):\n",
        "    @abstractmethod\n",
        "    def area(self):\n",
        "        \"\"\"Method to compute the area of the shape.\"\"\"\n",
        "        pass\n",
        "\n",
        "# Subclass Circle that implements the area method\n",
        "class Circle(Shape):\n",
        "    def __init__(self, radius):\n",
        "        self.radius = radius\n",
        "\n",
        "    def area(self):\n",
        "        return math.pi * self.radius ** 2\n",
        "\n",
        "# Subclass Rectangle that implements the area method\n",
        "class Rectangle(Shape):\n",
        "    def __init__(self, width, height):\n",
        "        self.width = width\n",
        "        self.height = height\n",
        "\n",
        "    def area(self):\n",
        "        return self.width * self.height\n",
        "\n",
        "# Function to calculate and print the area of any shape\n",
        "def print_area(shape: Shape):\n",
        "    \"\"\"Print the area of the given shape.\"\"\"\n",
        "    print(f\"The area of the shape is: {shape.area():.2f}\")\n",
        "\n",
        "# Example usage:\n",
        "circle = Circle(5)\n",
        "rectangle = Rectangle(4, 6)\n",
        "\n",
        "# Using the print_area function with different shape objects\n",
        "print_area(circle)      # Output: The area of the shape is: 78.54\n",
        "print_area(rectangle)   # Output: The area of the shape is: 24.00\n"
      ],
      "metadata": {
        "id": "OY6lVAUsM966"
      },
      "execution_count": null,
      "outputs": []
    },
    {
      "cell_type": "markdown",
      "source": [
        "**10. Implement encapsulation in a `BankAccount` class with private attributes for `balance` and\n",
        "`account_number`. Include methods for deposit, withdrawal, and balance inquiry.**"
      ],
      "metadata": {
        "id": "m8gpul8TIHjP"
      }
    },
    {
      "cell_type": "code",
      "source": [
        "# Encapsulation is a fundamental concept in object-oriented programming that restricts direct access to an object's attributes and methods. This is typically achieved by marking attributes as private and providing public methods to manipulate or access them.\n",
        "class BankAccount:\n",
        "    def __init__(self, account_number, initial_balance=0):\n",
        "        self.__account_number = account_number  # Private attribute for account number\n",
        "        self.__balance = initial_balance  # Private attribute for balance\n",
        "\n",
        "    def deposit(self, amount):\n",
        "        \"\"\"Deposit money into the account.\"\"\"\n",
        "        if amount > 0:\n",
        "            self.__balance += amount\n",
        "            print(f\"Deposited: ${amount:.2f}\")\n",
        "        else:\n",
        "            print(\"Deposit amount must be positive.\")\n",
        "\n",
        "    def withdraw(self, amount):\n",
        "        \"\"\"Withdraw money from the account.\"\"\"\n",
        "        if 0 < amount <= self.__balance:\n",
        "            self.__balance -= amount\n",
        "            print(f\"Withdrew: ${amount:.2f}\")\n",
        "        else:\n",
        "            print(\"Invalid withdrawal amount or insufficient funds.\")\n",
        "\n",
        "    def get_balance(self):\n",
        "        \"\"\"Return the current balance.\"\"\"\n",
        "        return self.__balance\n",
        "\n",
        "    def get_account_number(self):\n",
        "        \"\"\"Return the account number.\"\"\"\n",
        "        return self.__account_number\n",
        "\n",
        "# Example usage:\n",
        "account = BankAccount(account_number=\"123456789\", initial_balance=1000)\n",
        "\n",
        "# Check initial balance\n",
        "print(f\"Account Number: {account.get_account_number()}\")\n",
        "print(f\"Initial Balance: ${account.get_balance():.2f}\")\n",
        "\n",
        "# Deposit money\n",
        "account.deposit(500)  # Output: Deposited: $500.00\n",
        "\n",
        "# Withdraw money\n",
        "account.withdraw(200)  # Output: Withdrew: $200.00\n",
        "\n",
        "# Check final balance\n",
        "print(f\"Final Balance: ${account.get_balance():.2f}\")  # Output: Final Balance: $1300.00\n"
      ],
      "metadata": {
        "id": "SZuGgvHkNQx4"
      },
      "execution_count": null,
      "outputs": []
    },
    {
      "cell_type": "markdown",
      "source": [
        "**11. Write a class that overrides the `__str__` and `__add__` magic methods. What will these methods allow\n",
        "you to do?**"
      ],
      "metadata": {
        "id": "MXZtuFgxIXuN"
      }
    },
    {
      "cell_type": "code",
      "source": [
        "# In Python, you can create a class that overrides the __str__ and __add__ magic methods to customize how instances of the class are represented as strings and how they can be added together, respectively. Here’s an example of a class that demonstrates this:\n",
        "class Point:\n",
        "    def __init__(self, x, y):\n",
        "        self.x = x\n",
        "        self.y = y\n",
        "\n",
        "    def __str__(self):\n",
        "        # This method returns a string representation of the Point instance\n",
        "        return f\"Point({self.x}, {self.y})\"\n",
        "\n",
        "    def __add__(self, other):\n",
        "        # This method allows adding two Point instances together\n",
        "        if isinstance(other, Point):\n",
        "            return Point(self.x + other.x, self.y + other.y)\n",
        "        return NotImplemented\n",
        "\n",
        "# Example usage\n",
        "point1 = Point(2, 3)\n",
        "point2 = Point(4, 5)\n",
        "\n",
        "# Using the __str__ method\n",
        "print(point1)  # Output: Point(2, 3)\n",
        "\n",
        "# Using the __add__ method\n",
        "point3 = point1 + point2\n",
        "print(point3)  # Output: Point(6, 8)\n"
      ],
      "metadata": {
        "id": "018NE6jxNYbe"
      },
      "execution_count": null,
      "outputs": []
    },
    {
      "cell_type": "markdown",
      "source": [
        " **12. Create a decorator that measures and prints the execution time of a function.**"
      ],
      "metadata": {
        "id": "Uo9XccY7IdC0"
      }
    },
    {
      "cell_type": "code",
      "source": [
        "# A decorator in Python is a function that takes another function as an argument and extends its behavior without modifying its structure. You can create a decorator to measure and print the execution time of a function using the time module.\n",
        "import time\n",
        "\n",
        "def execution_time_decorator(func):\n",
        "    \"\"\"Decorator to measure the execution time of a function.\"\"\"\n",
        "    def wrapper(*args, **kwargs):\n",
        "        start_time = time.time()  # Record start time\n",
        "        result = func(*args, **kwargs)  # Call the original function\n",
        "        end_time = time.time()  # Record end time\n",
        "        execution_time = end_time - start_time  # Calculate execution time\n",
        "        print(f\"Execution time of '{func.__name__}': {execution_time:.4f} seconds\")\n",
        "        return result  # Return the result of the original function\n",
        "    return wrapper\n",
        "\n",
        "# Example usage:\n",
        "@execution_time_decorator\n",
        "def example_function(n):\n",
        "    \"\"\"Example function that simulates a time-consuming task.\"\"\"\n",
        "    total = 0\n",
        "    for i in range(n):\n",
        "        total += i\n",
        "    return total\n",
        "\n",
        "# Call the decorated function\n",
        "result = example_function(1000000)\n",
        "print(f\"Result: {result}\")  # Output: Result: 499999500000\n"
      ],
      "metadata": {
        "id": "9hWoa50lNlms"
      },
      "execution_count": null,
      "outputs": []
    },
    {
      "cell_type": "markdown",
      "source": [
        " **13. Explain the concept of the Diamond Problem in multiple inheritance. How does Python resolve it?**"
      ],
      "metadata": {
        "id": "MCA2zIR2Ihpl"
      }
    },
    {
      "cell_type": "code",
      "source": [
        "# The Diamond Problem (or Deadly Diamond of Death) arises in programming languages that support multiple inheritance when a class inherits from two classes that have a common ancestor. The issue occurs because the derived class can inherit attributes and methods from multiple paths, which can lead to ambiguity in method resolution and data consistency.\n",
        "class A:\n",
        "    def method(self):\n",
        "        print(\"Method from A\")\n",
        "\n",
        "class B(A):\n",
        "    def method(self):\n",
        "        print(\"Method from B\")\n",
        "\n",
        "class C(A):\n",
        "    def method(self):\n",
        "        print(\"Method from C\")\n",
        "\n",
        "class D(B, C):\n",
        "    pass\n",
        "\n",
        "d = D()\n",
        "d.method()\n"
      ],
      "metadata": {
        "id": "0If4Qvh-NtlS"
      },
      "execution_count": null,
      "outputs": []
    },
    {
      "cell_type": "markdown",
      "source": [
        "**14. Write a class method that keeps track of the number of instances created from a class.**"
      ],
      "metadata": {
        "id": "VRgm-SpsImR5"
      }
    },
    {
      "cell_type": "code",
      "source": [
        "# You can create a class method in Python that keeps track of the number of instances created from a class. This can be accomplished by maintaining a class variable that increments each time an instance of the class is created.\n",
        "class InstanceCounter:\n",
        "    # Class variable to keep track of the number of instances\n",
        "    instance_count = 0\n",
        "\n",
        "    def __init__(self):\n",
        "        # Increment the instance count each time an instance is created\n",
        "        InstanceCounter.instance_count += 1\n",
        "\n",
        "    @classmethod\n",
        "    def get_instance_count(cls):\n",
        "        \"\"\"Class method to return the current instance count.\"\"\"\n",
        "        return cls.instance_count\n",
        "\n",
        "# Example usage:\n",
        "obj1 = InstanceCounter()\n",
        "obj2 = InstanceCounter()\n",
        "obj3 = InstanceCounter()\n",
        "\n",
        "# Get the count of instances created\n",
        "print(f\"Number of instances created: {InstanceCounter.get_instance_count()}\")  # Output: Number of instances created: 3\n"
      ],
      "metadata": {
        "id": "PdE-9lGiOARW"
      },
      "execution_count": null,
      "outputs": []
    },
    {
      "cell_type": "markdown",
      "source": [
        "**15. Implement a static method in a class that checks if a given year is a leap year.**\n",
        "=>To implement a static method in a class that checks if a given year is a leap year, you can define the method using the @staticmethod decorator. Here’s a simple implementation:\n",
        "Leap Year Logic\n",
        "A year is considered a leap year if:\n",
        "It is divisible by 4.\n",
        "However, if the year is divisible by 100, it is not a leap year, unless:\n",
        "The year is also divisible by 400, in which case it is a leap year."
      ],
      "metadata": {
        "id": "cfzJtQVKIq-m"
      }
    },
    {
      "cell_type": "code",
      "source": [
        "class YearChecker:\n",
        "    @staticmethod\n",
        "    def is_leap_year(year):\n",
        "        \"\"\"Check if a given year is a leap year.\"\"\"\n",
        "        if (year % 4 == 0 and year % 100 != 0) or (year % 400 == 0):\n",
        "            return True\n",
        "        else:\n",
        "            return False\n",
        "\n",
        "# Example usage\n",
        "year = 2024\n",
        "if YearChecker.is_leap_year(year):\n",
        "    print(f\"{year} is a leap year.\")\n",
        "else:\n",
        "    print(f\"{year} is not a leap year.\")\n"
      ],
      "metadata": {
        "id": "YIVMn1QXOLsl"
      },
      "execution_count": null,
      "outputs": []
    }
  ]
}