{
  "nbformat": 4,
  "nbformat_minor": 0,
  "metadata": {
    "colab": {
      "provenance": [],
      "authorship_tag": "ABX9TyOepq+zKwnGLkQEJw3Wd5Q3",
      "include_colab_link": true
    },
    "kernelspec": {
      "name": "python3",
      "display_name": "Python 3"
    },
    "language_info": {
      "name": "python"
    }
  },
  "cells": [
    {
      "cell_type": "markdown",
      "metadata": {
        "id": "view-in-github",
        "colab_type": "text"
      },
      "source": [
        "<a href=\"https://colab.research.google.com/github/kartikmane45/physics_wallah_skills_assignments/blob/main/Assignment_2_pw.ipynb\" target=\"_parent\"><img src=\"https://colab.research.google.com/assets/colab-badge.svg\" alt=\"Open In Colab\"/></a>"
      ]
    },
    {
      "cell_type": "markdown",
      "source": [
        "Q-1> Discuss string slicing and provide examples.\n",
        "\n",
        "String slicing in Python allows you to extract a substring from a string using a specified range of indices. The syntax for slicing is string[start:stop:step]:\n",
        "\n",
        "start is the index where the slice begins.\n",
        "\n",
        "stop is the index where the slice ends (but does not include).\n",
        "\n",
        "step determines the interval between indices (default is 1). Examples:"
      ],
      "metadata": {
        "id": "dO06yrRbKKY-"
      }
    },
    {
      "cell_type": "code",
      "source": [
        "\n",
        "\n",
        "s = \"Hello, World!\"\n",
        "s[::-1]\n"
      ],
      "metadata": {
        "id": "Df_PowXiKLOu"
      },
      "execution_count": null,
      "outputs": []
    },
    {
      "cell_type": "code",
      "source": [
        "S = \"kartikmane\"\n",
        "S[0:4:2]"
      ],
      "metadata": {
        "id": "fq_gIfHpKl-H"
      },
      "execution_count": null,
      "outputs": []
    },
    {
      "cell_type": "markdown",
      "source": [
        "Q-2> Explain the key features of lists in python.\n",
        "\n",
        "In Python, lists are versatile and mutable collections with these key features:\n",
        "\n",
        "1.Ordered: Lists maintain the order of elements.\n",
        "\n",
        "2.Mutable: You can modify elements, add, or remove items.\n",
        "\n",
        "3.Indexed: Elements are accessed via zero-based indices.\n",
        "\n",
        "4.Dynamic: Lists can grow or shrink in size.\n",
        "\n",
        "5.Heterogeneous: They can store elements of different data types.\n",
        "\n",
        "6.Iterable: You can loop through elements using iteration constructs.\n",
        "\n",
        "Q-3> Describe how to access, modify, and delete elements in a list with examples.\n",
        "\n",
        "1.Accessing Elements:\n",
        "\n",
        "Use indices to access elements.\n",
        "\n",
        "2.Modifying Elements:\n",
        "\n",
        "Assign a new value to a specific index.\n",
        "\n",
        "3.Deleting Elements:\n",
        "\n",
        "Use del statement or pop() method to remove elements.\n",
        "\n",
        "Examples:"
      ],
      "metadata": {
        "id": "k6GRUqVhKqXd"
      }
    },
    {
      "cell_type": "code",
      "source": [
        "#2. Modifying Elements:\n",
        "my_list[1] = 99\n",
        "print(my_list)"
      ],
      "metadata": {
        "id": "lS3O8JXWKrFF"
      },
      "execution_count": null,
      "outputs": []
    },
    {
      "cell_type": "code",
      "source": [
        "#3. Deleting elements:\n",
        "del my_list[0]\n",
        "print(my_list)"
      ],
      "metadata": {
        "id": "UweHuXxOKzH2"
      },
      "execution_count": null,
      "outputs": []
    },
    {
      "cell_type": "markdown",
      "source": [
        "\n",
        "Q-4> Compare and contrast tuples and lists with examples.\n",
        "\n",
        "Tuples and lists in Python are both used to store collections of items, but they have some key differences:\n",
        "\n",
        "Mutability: Lists are mutable (can be changed), while tuples are immutable (cannot be changed).\n",
        "\n",
        "Syntax: Lists use square brackets [], whereas tuples use parentheses ().\n",
        "\n",
        "Usage: Lists are used when you need to modify the data, while tuples are preferred for fixed collections of data.\n",
        "\n",
        "Example of list: [1, 2, 3] Example of tuple: (1, 2, 3)\n",
        "\n",
        "Q-5> Describe the key features of sets and provide examples of their use.\n",
        "\n",
        "Sets in Python are unordered collections with unique elements. Key features:\n",
        "\n",
        "Unordered: No specific order to elements. Unique elements: Duplicate values are not allowed. Mutable: Elements can be added or removed. Sets are often used for mathematical operations like union, intersection, and difference. Example :"
      ],
      "metadata": {
        "id": "lMuZ2PNkK5si"
      }
    },
    {
      "cell_type": "markdown",
      "source": [],
      "metadata": {
        "id": "l_p3n6-ZK8dX"
      }
    },
    {
      "cell_type": "code",
      "source": [
        "my_set = {1, 2, 3}\n",
        "my_set.add(4)  # {1, 2, 3, 4}\n",
        "my_set.remove(2)  # {1, 3, 4}"
      ],
      "metadata": {
        "id": "cYuMeJN4K-uh"
      },
      "execution_count": null,
      "outputs": []
    },
    {
      "cell_type": "markdown",
      "source": [
        "6.Discuss the use cases of tuples and sets in Python programming Tuples and sets have distinct use cases in Python:\n",
        "\n",
        "Tuples:\n",
        "\n",
        "Immutable data: When you need a fixed collection of items that shouldn’t change (e.g., coordinates, dates). Return multiple values: Useful in functions to return multiple results. Dictionary keys: Tuples can be used as keys in dictionaries since they are immutable. Sets:\n",
        "\n",
        "Unique elements: Useful when you need to store only unique items (e.g., eliminating duplicates from a list). Set operations: For tasks like union, intersection, and difference in mathematical or database operations. Membership testing: Efficiently checking if an item exists in a collection.\n",
        "\n",
        "Q-7> Describe how to add, modify, and delete items in a dictionary with examples.\n",
        "\n",
        "Adding Items\n",
        "You can add items to a dictionary by assigning a value to a new key. If the key does not already exist in the dictionary, it will be added.\n",
        "\n",
        "Modifying Items To modify an existing item, you assign a new value to an existing key. If the key already exists, its value will be updated.\n",
        "\n",
        "Deleting Items You can delete items from a dictionary using the del statement or the pop() method.\n",
        "\n",
        "i)Using del:\n",
        "\n",
        "The del statement removes a key-value pair from the dictionary. If the key does not exist, it will raise a KeyError.\n",
        "\n",
        "ii)Using pop():\n",
        "\n",
        "The pop() method removes a specified key and returns its value. If the key does not exist and you don't provide a default value, it will raise a KeyError. You can also provide a default value to avoid errors if the key is not found."
      ],
      "metadata": {
        "id": "JJGa9YNSLIKk"
      }
    },
    {
      "cell_type": "code",
      "source": [
        "#Examples.\n",
        "#1.Adding Items\n",
        "person = {\"name\": \"kartik\", \"age\": 22}\n",
        "person[\"occupation\"] = \"college student\"\n",
        "print(person)"
      ],
      "metadata": {
        "colab": {
          "base_uri": "https://localhost:8080/"
        },
        "id": "XgjfwCLwLJfE",
        "outputId": "6a1eb588-7099-4821-ec22-a3f7839dbd09"
      },
      "execution_count": null,
      "outputs": [
        {
          "output_type": "stream",
          "name": "stdout",
          "text": [
            "{'name': 'kartik', 'age': 22, 'occupation': 'college student'}\n"
          ]
        }
      ]
    },
    {
      "cell_type": "markdown",
      "source": [
        "Q-8> Discuss the importance of dictionary keys being immutable and provide examples.\n",
        "\n",
        "In Python, dictionary keys must be immutable (e.g., strings, numbers, tuples) to ensure they remain hashable and consistent, allowing efficient lookups. If keys could change, it would break the integrity of the dictionary’s internal structure.\n",
        "\n",
        "Example: A string key like \"name\" or a tuple (1, 2) works because their values cannot change. Using a list [1, 2] as a key would fail since lists are mutable.\n",
        "\n",
        "Immutable keys ensure dictionaries perform reliably and quickly for storing and retrieving data."
      ],
      "metadata": {
        "id": "CbISJQ_IL3ZK"
      }
    },
    {
      "cell_type": "code",
      "source": [
        "\n",
        "person = {\"name\": \"kartik\", \"age\": 21}\n",
        "print(person[\"name\"])\n"
      ],
      "metadata": {
        "id": "pcqAU34cL7eF"
      },
      "execution_count": null,
      "outputs": []
    }
  ]
}