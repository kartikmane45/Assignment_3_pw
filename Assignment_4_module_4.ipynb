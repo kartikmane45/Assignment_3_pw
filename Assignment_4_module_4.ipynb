{
  "nbformat": 4,
  "nbformat_minor": 0,
  "metadata": {
    "colab": {
      "provenance": [],
      "authorship_tag": "ABX9TyOVmn0iBMYydhqcjRZDqEjN",
      "include_colab_link": true
    },
    "kernelspec": {
      "name": "python3",
      "display_name": "Python 3"
    },
    "language_info": {
      "name": "python"
    }
  },
  "cells": [
    {
      "cell_type": "markdown",
      "metadata": {
        "id": "view-in-github",
        "colab_type": "text"
      },
      "source": [
        "<a href=\"https://colab.research.google.com/github/kartikmane45/physics_wallah_skills_assignments/blob/main/Assignment_4_module_4.ipynb\" target=\"_parent\"><img src=\"https://colab.research.google.com/assets/colab-badge.svg\" alt=\"Open In Colab\"/></a>"
      ]
    },
    {
      "cell_type": "markdown",
      "source": [
        "1. Write a Python function that takes a list of numbers as input and returns the sum of all even numbers in\n",
        "the list."
      ],
      "metadata": {
        "id": "5_iCnUKKe2fw"
      }
    },
    {
      "cell_type": "code",
      "execution_count": null,
      "metadata": {
        "colab": {
          "base_uri": "https://localhost:8080/"
        },
        "id": "i_phuqcxQz78",
        "outputId": "48de96e6-3071-4585-87ee-d33ab9b13716"
      },
      "outputs": [
        {
          "output_type": "stream",
          "name": "stdout",
          "text": [
            "12\n"
          ]
        }
      ],
      "source": [
        "def sum_of_even_numbers(numbers):\n",
        "    return sum(num for num in numbers if num % 2 == 0)\n",
        "\n",
        "numbers = [1, 2, 3, 4, 5, 6]\n",
        "print(sum_of_even_numbers(numbers))"
      ]
    },
    {
      "cell_type": "markdown",
      "source": [
        " 2. Create a Python function that accepts a string and returns the reverse of that string"
      ],
      "metadata": {
        "id": "21l5fxn4e-nF"
      }
    },
    {
      "cell_type": "code",
      "source": [
        "def _reverse_string_(name):\n",
        "\n",
        "     name1 = \"\"\n",
        "\n",
        "\n",
        "\n",
        "     for i in name:\n",
        "         name1 = i + name1\n",
        "     print(name1)\n",
        "\n",
        "_reverse_string_((input(\"enter your string: \")))"
      ],
      "metadata": {
        "colab": {
          "base_uri": "https://localhost:8080/"
        },
        "id": "bn_zRKfJRu7W",
        "outputId": "d2695934-4c0d-494c-b2c6-ea33b81a3b57"
      },
      "execution_count": null,
      "outputs": [
        {
          "output_type": "stream",
          "name": "stdout",
          "text": [
            "enter your string: UK\n",
            "KU\n"
          ]
        }
      ]
    },
    {
      "cell_type": "markdown",
      "source": [
        " 3. Implement a Python function that takes a list of integers and returns a new list containing the squares of\n",
        "each number."
      ],
      "metadata": {
        "id": "38RzvaktfCPB"
      }
    },
    {
      "cell_type": "code",
      "source": [
        "def square_of_numbers(numbers):\n",
        "  numbers1 = []\n",
        "  for i in numbers:\n",
        "    numbers1.append(i * i)  # Square each number and add it to numbers1\n",
        "  return numbers1\n",
        "\n",
        "numbers = [1, 2 ,3 ,4 ,5]\n",
        "print(square_of_numbers(numbers))"
      ],
      "metadata": {
        "colab": {
          "base_uri": "https://localhost:8080/"
        },
        "id": "ByjlVz-2SClf",
        "outputId": "4881ea36-142c-47cf-ddce-5c7cd400ee27"
      },
      "execution_count": null,
      "outputs": [
        {
          "output_type": "stream",
          "name": "stdout",
          "text": [
            "[1, 4, 9, 16, 25]\n"
          ]
        }
      ]
    },
    {
      "cell_type": "markdown",
      "source": [
        " 4.Write a Python function that checks if a given number is prime or not from 1 to 200"
      ],
      "metadata": {
        "id": "E7LqmoGeXTeU"
      }
    },
    {
      "cell_type": "code",
      "source": [
        "def is_prime(num):\n",
        "    if num <= 1:\n",
        "        return False\n",
        "    if num == 2:\n",
        "        return True\n",
        "    if num % 2 == 0:\n",
        "        return False\n",
        "\n",
        "    for i in range(3, int(num**0.5) + 1, 2):\n",
        "        if num % i == 0:\n",
        "            return False\n",
        "\n",
        "    return True\n",
        "\n",
        "for n in range(1, 201):\n",
        "    print(f\"{n}: {'Prime' if is_prime(n) else 'Not Prime'}\")\n"
      ],
      "metadata": {
        "colab": {
          "base_uri": "https://localhost:8080/"
        },
        "collapsed": true,
        "id": "JUrej1whXVQQ",
        "outputId": "90d073f4-ce71-4eba-f5ea-9f9be43433dc"
      },
      "execution_count": null,
      "outputs": [
        {
          "output_type": "stream",
          "name": "stdout",
          "text": [
            "1: Not Prime\n",
            "2: Prime\n",
            "3: Prime\n",
            "4: Not Prime\n",
            "5: Prime\n",
            "6: Not Prime\n",
            "7: Prime\n",
            "8: Not Prime\n",
            "9: Not Prime\n",
            "10: Not Prime\n",
            "11: Prime\n",
            "12: Not Prime\n",
            "13: Prime\n",
            "14: Not Prime\n",
            "15: Not Prime\n",
            "16: Not Prime\n",
            "17: Prime\n",
            "18: Not Prime\n",
            "19: Prime\n",
            "20: Not Prime\n",
            "21: Not Prime\n",
            "22: Not Prime\n",
            "23: Prime\n",
            "24: Not Prime\n",
            "25: Not Prime\n",
            "26: Not Prime\n",
            "27: Not Prime\n",
            "28: Not Prime\n",
            "29: Prime\n",
            "30: Not Prime\n",
            "31: Prime\n",
            "32: Not Prime\n",
            "33: Not Prime\n",
            "34: Not Prime\n",
            "35: Not Prime\n",
            "36: Not Prime\n",
            "37: Prime\n",
            "38: Not Prime\n",
            "39: Not Prime\n",
            "40: Not Prime\n",
            "41: Prime\n",
            "42: Not Prime\n",
            "43: Prime\n",
            "44: Not Prime\n",
            "45: Not Prime\n",
            "46: Not Prime\n",
            "47: Prime\n",
            "48: Not Prime\n",
            "49: Not Prime\n",
            "50: Not Prime\n",
            "51: Not Prime\n",
            "52: Not Prime\n",
            "53: Prime\n",
            "54: Not Prime\n",
            "55: Not Prime\n",
            "56: Not Prime\n",
            "57: Not Prime\n",
            "58: Not Prime\n",
            "59: Prime\n",
            "60: Not Prime\n",
            "61: Prime\n",
            "62: Not Prime\n",
            "63: Not Prime\n",
            "64: Not Prime\n",
            "65: Not Prime\n",
            "66: Not Prime\n",
            "67: Prime\n",
            "68: Not Prime\n",
            "69: Not Prime\n",
            "70: Not Prime\n",
            "71: Prime\n",
            "72: Not Prime\n",
            "73: Prime\n",
            "74: Not Prime\n",
            "75: Not Prime\n",
            "76: Not Prime\n",
            "77: Not Prime\n",
            "78: Not Prime\n",
            "79: Prime\n",
            "80: Not Prime\n",
            "81: Not Prime\n",
            "82: Not Prime\n",
            "83: Prime\n",
            "84: Not Prime\n",
            "85: Not Prime\n",
            "86: Not Prime\n",
            "87: Not Prime\n",
            "88: Not Prime\n",
            "89: Prime\n",
            "90: Not Prime\n",
            "91: Not Prime\n",
            "92: Not Prime\n",
            "93: Not Prime\n",
            "94: Not Prime\n",
            "95: Not Prime\n",
            "96: Not Prime\n",
            "97: Prime\n",
            "98: Not Prime\n",
            "99: Not Prime\n",
            "100: Not Prime\n",
            "101: Prime\n",
            "102: Not Prime\n",
            "103: Prime\n",
            "104: Not Prime\n",
            "105: Not Prime\n",
            "106: Not Prime\n",
            "107: Prime\n",
            "108: Not Prime\n",
            "109: Prime\n",
            "110: Not Prime\n",
            "111: Not Prime\n",
            "112: Not Prime\n",
            "113: Prime\n",
            "114: Not Prime\n",
            "115: Not Prime\n",
            "116: Not Prime\n",
            "117: Not Prime\n",
            "118: Not Prime\n",
            "119: Not Prime\n",
            "120: Not Prime\n",
            "121: Not Prime\n",
            "122: Not Prime\n",
            "123: Not Prime\n",
            "124: Not Prime\n",
            "125: Not Prime\n",
            "126: Not Prime\n",
            "127: Prime\n",
            "128: Not Prime\n",
            "129: Not Prime\n",
            "130: Not Prime\n",
            "131: Prime\n",
            "132: Not Prime\n",
            "133: Not Prime\n",
            "134: Not Prime\n",
            "135: Not Prime\n",
            "136: Not Prime\n",
            "137: Prime\n",
            "138: Not Prime\n",
            "139: Prime\n",
            "140: Not Prime\n",
            "141: Not Prime\n",
            "142: Not Prime\n",
            "143: Not Prime\n",
            "144: Not Prime\n",
            "145: Not Prime\n",
            "146: Not Prime\n",
            "147: Not Prime\n",
            "148: Not Prime\n",
            "149: Prime\n",
            "150: Not Prime\n",
            "151: Prime\n",
            "152: Not Prime\n",
            "153: Not Prime\n",
            "154: Not Prime\n",
            "155: Not Prime\n",
            "156: Not Prime\n",
            "157: Prime\n",
            "158: Not Prime\n",
            "159: Not Prime\n",
            "160: Not Prime\n",
            "161: Not Prime\n",
            "162: Not Prime\n",
            "163: Prime\n",
            "164: Not Prime\n",
            "165: Not Prime\n",
            "166: Not Prime\n",
            "167: Prime\n",
            "168: Not Prime\n",
            "169: Not Prime\n",
            "170: Not Prime\n",
            "171: Not Prime\n",
            "172: Not Prime\n",
            "173: Prime\n",
            "174: Not Prime\n",
            "175: Not Prime\n",
            "176: Not Prime\n",
            "177: Not Prime\n",
            "178: Not Prime\n",
            "179: Prime\n",
            "180: Not Prime\n",
            "181: Prime\n",
            "182: Not Prime\n",
            "183: Not Prime\n",
            "184: Not Prime\n",
            "185: Not Prime\n",
            "186: Not Prime\n",
            "187: Not Prime\n",
            "188: Not Prime\n",
            "189: Not Prime\n",
            "190: Not Prime\n",
            "191: Prime\n",
            "192: Not Prime\n",
            "193: Prime\n",
            "194: Not Prime\n",
            "195: Not Prime\n",
            "196: Not Prime\n",
            "197: Prime\n",
            "198: Not Prime\n",
            "199: Prime\n",
            "200: Not Prime\n"
          ]
        }
      ]
    },
    {
      "cell_type": "markdown",
      "source": [
        "5. Create an iterator class in Python that generates the Fibonacci sequence up to a specified number of\n",
        "terms."
      ],
      "metadata": {
        "id": "vHCZPkiXcdRK"
      }
    },
    {
      "cell_type": "code",
      "source": [
        "class Fibonacci:\n",
        "    def __init__(self, terms):\n",
        "        self.terms = terms\n",
        "        self.count = 0\n",
        "        self.a, self.b = 0, 1\n",
        "\n",
        "    def __iter__(self):\n",
        "        return self\n",
        "\n",
        "    def __next__(self):\n",
        "        if self.count >= self.terms:\n",
        "            raise StopIteration\n",
        "        self.count += 1\n",
        "        fib = self.a\n",
        "        self.a, self.b = self.b, self.a + self.b\n",
        "        return fib\n",
        "\n",
        "\n",
        "fib_iterator = Fibonacci(10)\n",
        "for num in fib_iterator:\n",
        "    print(num)\n"
      ],
      "metadata": {
        "colab": {
          "base_uri": "https://localhost:8080/"
        },
        "id": "guElFg88cdfB",
        "outputId": "9b62ed2c-584b-40a4-d424-63d49490dce5"
      },
      "execution_count": null,
      "outputs": [
        {
          "output_type": "stream",
          "name": "stdout",
          "text": [
            "0\n",
            "1\n",
            "1\n",
            "2\n",
            "3\n",
            "5\n",
            "8\n",
            "13\n",
            "21\n",
            "34\n"
          ]
        }
      ]
    },
    {
      "cell_type": "markdown",
      "source": [
        "6.Write a generator function in Python that yields the powers of 2 up to a given exponent"
      ],
      "metadata": {
        "id": "Q7DUgXn8ckkS"
      }
    },
    {
      "cell_type": "code",
      "source": [
        "def powers_of_two(exponent):\n",
        "    for i in range(exponent + 1):\n",
        "        yield 2 ** i\n",
        "\n",
        "\n",
        "for power in powers_of_two(5):\n",
        "    print(power)\n"
      ],
      "metadata": {
        "colab": {
          "base_uri": "https://localhost:8080/"
        },
        "id": "RvvPSP-LcshL",
        "outputId": "77ae1b52-4ee8-49f7-8f65-6b340c373bca"
      },
      "execution_count": null,
      "outputs": [
        {
          "output_type": "stream",
          "name": "stdout",
          "text": [
            "1\n",
            "2\n",
            "4\n",
            "8\n",
            "16\n",
            "32\n"
          ]
        }
      ]
    },
    {
      "cell_type": "markdown",
      "source": [
        " 7.Implement a generator function that reads a file line by line and yields each line as a string."
      ],
      "metadata": {
        "id": "pF8i-JYlc9og"
      }
    },
    {
      "cell_type": "code",
      "source": [
        "def read_file_line_by_line(file_name):\n",
        "    with open(file_name, 'r') as file:\n",
        "        for line in file:\n",
        "            yield line.strip()\n",
        "\n",
        "\n",
        "for line in read_file_line_by_line('example.txt'):\n",
        "    print(line)\n"
      ],
      "metadata": {
        "id": "k1okRJ-Uc935"
      },
      "execution_count": null,
      "outputs": []
    },
    {
      "cell_type": "markdown",
      "source": [
        " 8. Use a lambda function in Python to sort a list of tuples based on the second element of each tuple"
      ],
      "metadata": {
        "id": "7-LAlBf8dCfc"
      }
    },
    {
      "cell_type": "code",
      "source": [
        "tuples_list = [(1, 3), (2, 1), (5, 2), (4, 4)]\n",
        "sorted_list = sorted(tuples_list, key=lambda x: x[1])\n",
        "\n",
        "print(sorted_list)\n"
      ],
      "metadata": {
        "id": "UviT5pWMdLpS"
      },
      "execution_count": null,
      "outputs": []
    },
    {
      "cell_type": "markdown",
      "source": [
        "9. Write a Python program that uses `map()` to convert a list of temperatures from Celsius to Fahrenheit"
      ],
      "metadata": {
        "id": "x8iihdfLdOcb"
      }
    },
    {
      "cell_type": "code",
      "source": [
        "celsius_temps = [0, 20, 30, 40, 100]\n",
        "fahrenheit_temps = list(map(lambda c: (c * 9/5) + 32, celsius_temps))\n",
        "\n",
        "print(fahrenheit_temps)"
      ],
      "metadata": {
        "id": "VzEYgagQdQg4"
      },
      "execution_count": null,
      "outputs": []
    },
    {
      "cell_type": "markdown",
      "source": [
        " 10. Create a Python program that uses `filter()` to remove all the vowels from a given string"
      ],
      "metadata": {
        "id": "2rKXNY0sdVUU"
      }
    },
    {
      "cell_type": "code",
      "source": [
        "def remove_vowels(s):\n",
        "    vowels = 'aeiouAEIOU'\n",
        "    return ''.join(filter(lambda char: char not in vowels, s))\n",
        "\n",
        "\n",
        "input_string = \"Hello World\"\n",
        "result = remove_vowels(input_string)\n",
        "print(result)\n"
      ],
      "metadata": {
        "id": "btEWvywAdWGH"
      },
      "execution_count": null,
      "outputs": []
    },
    {
      "cell_type": "markdown",
      "source": [
        "Imagine an accounting routine used in a book shop. It works on a list with sublists, which look like this:\n",
        "\n",
        "Order\n",
        "\n",
        "Number\n",
        "\n",
        "Book Title and Author\n",
        "\n",
        "Quantity\n",
        "\n",
        "4\n",
        "\n",
        "5\n",
        "\n",
        "Price per Item\n",
        "\n",
        "34587\n",
        "\n",
        "Learning Python, Mark Lutz\n",
        "\n",
        "40.95\n",
        "\n",
        "98762\n",
        "\n",
        "Programming Python, Mark Lutz\n",
        "\n",
        "56.80\n",
        "\n",
        "77226\n",
        "\n",
        "Head First Python, Paul Barry\n",
        "\n",
        "3\n",
        "\n",
        "32.95\n",
        "\n",
        "88112\n",
        "\n",
        "Einführung in Python3, Bernd Klein\n",
        "\n",
        "3\n",
        "\n",
        "24.99\n",
        "\n",
        "Write a Python program, which returns a list with 2-tuples. Each tuple consists of the order number and the product of the price per item and the quantity. The product should be increased by 10,- € if the value of the order is smaller than 100,00 €.\n",
        "\n",
        "Write a Python program using lambda and map."
      ],
      "metadata": {
        "id": "hpZ20fW5esML"
      }
    },
    {
      "cell_type": "code",
      "source": [
        "orders = [\n",
        "    [34587, \"Learning Python, Mark Lutz\", 40.95],\n",
        "    [98762, \"Programming Python, Mark Lutz\", 56.80],\n",
        "    [77226, \"Head First Python, Paul Barry\", 32.95],\n",
        "    [88112, \"Einführung in Python3, Bernd Klein\", 24.99]\n",
        "]\n",
        "\n",
        "result = list(map(lambda o: (o[0], (o[2] * 1 + 10) if o[2] * 1 < 100 else o[2] * 1), orders))\n",
        "\n",
        "print(result)\n"
      ],
      "metadata": {
        "id": "0s9QH13Oesvt"
      },
      "execution_count": null,
      "outputs": []
    }
  ]
}