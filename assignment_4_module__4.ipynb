{
  "nbformat": 4,
  "nbformat_minor": 0,
  "metadata": {
    "colab": {
      "provenance": [],
      "authorship_tag": "ABX9TyOwtTPgdt0xb+7IaNW/3Enp",
      "include_colab_link": true
    },
    "kernelspec": {
      "name": "python3",
      "display_name": "Python 3"
    },
    "language_info": {
      "name": "python"
    }
  },
  "cells": [
    {
      "cell_type": "markdown",
      "metadata": {
        "id": "view-in-github",
        "colab_type": "text"
      },
      "source": [
        "<a href=\"https://colab.research.google.com/github/kartikmane45/physics_wallah_skills_assignments/blob/main/assignment_4_module__4.ipynb\" target=\"_parent\"><img src=\"https://colab.research.google.com/assets/colab-badge.svg\" alt=\"Open In Colab\"/></a>"
      ]
    },
    {
      "cell_type": "markdown",
      "source": [
        " 1)What is the difference between a function and a method in Python?\n",
        "\n",
        " =>Function: A block of code that can be called independently. It is defined\n",
        "   using the def keyword and can accept arguments and return values.\n",
        "   Method: A function that is associated with an object. It is called on an instance of a class and usually operates on the instance data."
      ],
      "metadata": {
        "id": "vBzJ-EwvmNcC"
      }
    },
    {
      "cell_type": "code",
      "source": [
        "# Function\n",
        "def greet():\n",
        "    return \"Hello!\"\n",
        "\n",
        "# Method (inside a class)\n",
        "class Greeter:\n",
        "    def greet(self):\n",
        "        return \"Hello from a method!\""
      ],
      "metadata": {
        "id": "xFXfIvMVmadO"
      },
      "execution_count": null,
      "outputs": []
    },
    {
      "cell_type": "markdown",
      "source": [
        " 2. Explain the concept of function arguments and parameters in Python.?\n",
        "\n",
        " =>Parameters are the variables defined in the function signature that represent the input data the function expects. For example, in def add(a, b):, a and b are parameters.\n",
        "\n",
        "Arguments are the actual values passed to the function when it is called. For example, when calling add(2, 3), 2 and 3 are the arguments.\n",
        "\n",
        "In Python, there are four types of arguments:\n",
        "\n",
        "Positional Arguments: Passed by position in the function call.\n",
        "Keyword Arguments: Passed by name.\n",
        "Default Arguments: Parameters that have a default value.\n",
        "Variable-length Arguments: Using *args (non-keyword) or **kwargs (keyword)."
      ],
      "metadata": {
        "id": "7Mx7ptQ71ayf"
      }
    },
    {
      "cell_type": "markdown",
      "source": [
        " 3. What are the different ways to define and call a function in Python?\n",
        " =>\n",
        " functions"
      ],
      "metadata": {
        "id": "YBaJZ5Qb2K3Z"
      }
    },
    {
      "cell_type": "code",
      "source": [
        "def function_name(parameters):\n",
        "    # function body\n",
        "    return result\n"
      ],
      "metadata": {
        "collapsed": true,
        "id": "MCNW-eQe14yt"
      },
      "execution_count": null,
      "outputs": []
    },
    {
      "cell_type": "code",
      "source": [
        "function_name(arguments)"
      ],
      "metadata": {
        "id": "DkLojusN17wL"
      },
      "execution_count": null,
      "outputs": []
    },
    {
      "cell_type": "markdown",
      "source": [
        "argument"
      ],
      "metadata": {
        "id": "npRe_3Eg2Sau"
      }
    },
    {
      "cell_type": "code",
      "source": [
        "def greet(name, msg=\"Hello\"):\n",
        "    print(msg, name)\n",
        "greet(\"Alice\")  # Output: Hello Alice"
      ],
      "metadata": {
        "id": "tD5T01-e2W_4"
      },
      "execution_count": null,
      "outputs": []
    },
    {
      "cell_type": "code",
      "source": [
        "def func(*args, **kwargs):\n",
        "    print(args, kwargs)"
      ],
      "metadata": {
        "id": "LhBmojSo2Xuc"
      },
      "execution_count": null,
      "outputs": []
    },
    {
      "cell_type": "markdown",
      "source": [
        ". What is the purpose of the `return` statement in a Python function?\n",
        "\n",
        "=>The return statement is used to exit a function and optionally pass a value back to the caller. When return is encountered, the function terminates, and the specified value is returned. Without a return statement, a Python function returns None by default."
      ],
      "metadata": {
        "id": "fgfFdtlk2dH1"
      }
    },
    {
      "cell_type": "code",
      "source": [
        "def square(x):\n",
        "    return x * x\n",
        "\n",
        "result = square(5)  # Returns 25"
      ],
      "metadata": {
        "id": "GLQz3jlT2fe1"
      },
      "execution_count": null,
      "outputs": []
    },
    {
      "cell_type": "markdown",
      "source": [
        "5. What are iterators in Python and how do they differ from iterables?\n",
        "\n",
        "=>Iterable: An object capable of returning its members one at a time (e.g., lists, tuples, strings). You can obtain an iterator from an iterable by using iter().\n",
        "\n",
        "Iterator: An object representing a stream of data that can be iterated over. It implements two methods: __iter__() and __next__().\n",
        "\n",
        "Difference: An iterable can be looped over, but an iterator is the object that iterates over the iterable. Once an iterator reaches the end, it raises StopIteration."
      ],
      "metadata": {
        "id": "QmY4bXrs2n7a"
      }
    },
    {
      "cell_type": "code",
      "source": [
        "my_list = [1, 2, 3]\n",
        "iterator = iter(my_list)  # This creates an iterator from the list"
      ],
      "metadata": {
        "id": "CZjrx2_D2w3A"
      },
      "execution_count": null,
      "outputs": []
    },
    {
      "cell_type": "markdown",
      "source": [
        " 6. Explain the concept of generators in Python and how they are defined?\n",
        "\n",
        "=>A generator is a special type of iterator that is defined using a function and the yield keyword. When a generator function is called, it returns a generator object without executing the function immediately. yield pauses the function's state, allowing it to resume from the same point."
      ],
      "metadata": {
        "id": "8tFgp7RV3Ikq"
      }
    },
    {
      "cell_type": "code",
      "source": [
        "def my_generator():\n",
        "    yield 1\n",
        "    yield 2\n",
        "    yield 3\n",
        "\n",
        "gen = my_generator()  # Returns a generator object\n",
        "for val in gen:\n",
        "    print(val)"
      ],
      "metadata": {
        "id": "5mzBRwNX3Nse"
      },
      "execution_count": null,
      "outputs": []
    },
    {
      "cell_type": "markdown",
      "source": [
        " 7. What are the advantages of using generators over regular functions?\n",
        "\n",
        " =>Memory Efficiency: Generators generate values one at a time, making them ideal for large datasets.\n",
        "\n",
        "Lazy Evaluation: Values are only computed when needed.\n",
        "\n",
        "Simpler Code: Generators make it easier to write iterators in a clean, readable way."
      ],
      "metadata": {
        "id": "UjaZn8HSDaYp"
      }
    },
    {
      "cell_type": "markdown",
      "source": [
        " 8. What is a lambda function in Python and when is it typically used?\n",
        "\n",
        " =>A lambda function is an anonymous, small function defined using the lambda keyword. It can have multiple parameters but only one expression. It is commonly used in situations where a simple function is needed temporarily.\n",
        "\n",
        " syntax :-lambda arguments: expression"
      ],
      "metadata": {
        "id": "2uCZ66wJDj7i"
      }
    },
    {
      "cell_type": "code",
      "source": [
        "add = lambda x, y: x + y\n",
        "result = add(2, 3)  # Returns 5"
      ],
      "metadata": {
        "id": "SPK1erjdFTzS"
      },
      "execution_count": null,
      "outputs": []
    },
    {
      "cell_type": "markdown",
      "source": [
        "9. Explain the purpose and usage of the `map()` function in Python?\n",
        "\n",
        "map(function, iterable): Applies a function to each item in an iterable.\n",
        "filter(function, iterable): Filters elements from the iterable based on a function that returns True or False.\n",
        "reduce(function, iterable): Repeatedly applies a function to the iterable, reducing it to a single value. It is part of the functools module.\n",
        "=>"
      ],
      "metadata": {
        "id": "22VZ0-J2FcBH"
      }
    },
    {
      "cell_type": "code",
      "source": [
        "from functools import reduce\n",
        "\n",
        "# map\n",
        "print(list(map(lambda x: x*2, [1, 2, 3])))  # [2, 4, 6]\n",
        "\n",
        "# filter\n",
        "print(list(filter(lambda x: x % 2 == 0, [1, 2, 3])))  # [2]\n",
        "\n",
        "# reduce\n",
        "print(reduce(lambda x, y: x + y, [1, 2, 3]))  # 6"
      ],
      "metadata": {
        "id": "HXLLFr4EFkIh"
      },
      "execution_count": null,
      "outputs": []
    }
  ]
}