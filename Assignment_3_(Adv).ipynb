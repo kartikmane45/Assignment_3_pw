{
  "nbformat": 4,
  "nbformat_minor": 0,
  "metadata": {
    "colab": {
      "provenance": [],
      "include_colab_link": true
    },
    "kernelspec": {
      "name": "python3",
      "display_name": "Python 3"
    },
    "language_info": {
      "name": "python"
    }
  },
  "cells": [
    {
      "cell_type": "markdown",
      "metadata": {
        "id": "view-in-github",
        "colab_type": "text"
      },
      "source": [
        "<a href=\"https://colab.research.google.com/github/kartikmane45/Assignment_3_pw/blob/main/Assignment_3_(Adv).ipynb\" target=\"_parent\"><img src=\"https://colab.research.google.com/assets/colab-badge.svg\" alt=\"Open In Colab\"/></a>"
      ]
    },
    {
      "cell_type": "code",
      "execution_count": null,
      "metadata": {
        "id": "n3fb3RJ_1B43"
      },
      "outputs": [],
      "source": [
        "string = input(\"Enter a string : \")\n",
        "print(f\"The reversed string is : {(string[::-1])}\")\n",
        "\n"
      ]
    },
    {
      "cell_type": "code",
      "source": [
        "def palindrome(string):\n",
        "  string = input(\"Enter the string : \")\n",
        "  if string == string[::-1]:\n",
        "    print(\"The string is palindrome\")\n",
        "  else:\n",
        "    print(\"The string is not Palindrome\")\n",
        "palindrome(string)\n"
      ],
      "metadata": {
        "id": "Zo-b-UZj1mac"
      },
      "execution_count": null,
      "outputs": []
    },
    {
      "cell_type": "code",
      "source": [
        "def count_vowels(string):\n",
        "  vowels=\"aeiouAEIOU\"\n",
        "  count=0\n",
        "  for char in string:\n",
        "    if char in vowels:\n",
        "      count+=1\n",
        "  return count\n",
        "string = input(\"Enter a string : \")\n",
        "vowel_count = count_vowels(string)\n",
        "print(f\"the number of vowels in the string are {vowel_count}\")"
      ],
      "metadata": {
        "id": "dPFrSVUw13MB"
      },
      "execution_count": null,
      "outputs": []
    },
    {
      "cell_type": "code",
      "source": [
        "def anagram(s1,s2):\n",
        "  return sorted(s1) == sorted(s2)\n",
        "str1 = input(\"Enter string1 : \")\n",
        "str2 = input(\"Enter string2 : \")\n",
        "if anagram(str1,str2):\n",
        "  print(\"The strings are anagrams\")\n",
        "else:\n",
        "  print(\"The string are not Anagrams\")\n",
        "\n"
      ],
      "metadata": {
        "id": "ejirTDG7wg8n"
      },
      "execution_count": null,
      "outputs": []
    },
    {
      "cell_type": "code",
      "source": [
        "text = \"This is a simple example. This example shows how to find all occurrences.\"\n",
        "substring = \"example\"\n",
        "print([i for i in range(len(text)) if text.startswith(substring, i)])\n"
      ],
      "metadata": {
        "id": "t_yp-0wpz2vv",
        "colab": {
          "base_uri": "https://localhost:8080/"
        },
        "outputId": "ab0fb4b5-8714-45f5-95f2-46ed9492767e"
      },
      "execution_count": null,
      "outputs": [
        {
          "output_type": "stream",
          "name": "stdout",
          "text": [
            "[17, 31]\n"
          ]
        }
      ]
    },
    {
      "cell_type": "code",
      "source": [
        "def compress_string(s):\n",
        "    return ''.join(f\"{s[i]}{len(list(g))}\" for i, g in enumerate([list(g) for k, g in groupby(s)]))\n",
        "\n",
        "from itertools import groupby\n",
        "\n",
        "s = \"Akshata\"\n",
        "print(compress_string(s))\n"
      ],
      "metadata": {
        "id": "euvc9wOSJKct"
      },
      "execution_count": null,
      "outputs": []
    },
    {
      "cell_type": "code",
      "source": [
        "def has_unique_characters(s):\n",
        "    s = s.lower()\n",
        "    return len(s) == len(set(s))\n",
        "s = input(\"Enter a string: \")\n",
        "print(has_unique_characters(s))\n"
      ],
      "metadata": {
        "id": "syUT-LoOKRI_"
      },
      "execution_count": null,
      "outputs": []
    },
    {
      "cell_type": "code",
      "source": [
        "s = input(\"Enter a string: \")\n",
        "choice = input(\"Convert to (U)ppercase or (L)owercase? \").lower()\n",
        "\n",
        "if choice == 'u':\n",
        "    print(s.upper())\n",
        "elif choice == 'l':\n",
        "    print(s.lower())\n",
        "else:\n",
        "    print(\"Invalid choice\")\n"
      ],
      "metadata": {
        "id": "5FonX7LrKdZb"
      },
      "execution_count": null,
      "outputs": []
    },
    {
      "cell_type": "code",
      "source": [
        "s = input(\"Enter a string: \")\n",
        "word_count = len(s.split())\n",
        "print(word_count)\n"
      ],
      "metadata": {
        "id": "A0PuNhACQjdi"
      },
      "execution_count": null,
      "outputs": []
    },
    {
      "cell_type": "code",
      "source": [
        "s1 = input(\"Enter the first string: \")\n",
        "s2 = input(\"Enter the second string: \")\n",
        "\n",
        "result = ''.join([s1, s2])\n",
        "print(result)"
      ],
      "metadata": {
        "id": "Ey77Wlk0RddO"
      },
      "execution_count": null,
      "outputs": []
    },
    {
      "cell_type": "code",
      "source": [
        "a = input(\"Enter the list elements: \").split()\n",
        "e = input(\"Enter the element to remove: \")\n",
        "\n",
        "a = [x for x in a if x != e]\n",
        "print(a)\n"
      ],
      "metadata": {
        "id": "tQm2ArL4S606"
      },
      "execution_count": null,
      "outputs": []
    },
    {
      "cell_type": "code",
      "source": [
        "a = list(map(int, input().split()))\n",
        "print(sorted(set(a))[-2])"
      ],
      "metadata": {
        "id": "3Ce-JTl8W4_F"
      },
      "execution_count": null,
      "outputs": []
    },
    {
      "cell_type": "code",
      "source": [
        "a = input(\"Enter the list elements: \").split()\n",
        "count_dict = {x: a.count(x) for x in set(a)}\n",
        "print(count_dict)"
      ],
      "metadata": {
        "id": "6HGlTRfuYICi"
      },
      "execution_count": null,
      "outputs": []
    },
    {
      "cell_type": "code",
      "source": [
        "a = list(map(int, input(\"Enter the list elements: \").split()))\n",
        "\n",
        "start, end = 0, len(a) - 1\n",
        "\n",
        "while start < end:\n",
        "    a[start], a[end] = a[end], a[start]\n",
        "    start += 1\n",
        "    end -= 1\n",
        "print(a)"
      ],
      "metadata": {
        "id": "lnmOUReiY7Jo"
      },
      "execution_count": null,
      "outputs": []
    },
    {
      "cell_type": "code",
      "source": [
        "a = input(\"Enter the list elements: \").split()\n",
        "unique = []\n",
        "[unique.append(x) for x in a if x not in unique]\n",
        "print(unique)\n"
      ],
      "metadata": {
        "id": "2VpP08kfZFrg"
      },
      "execution_count": null,
      "outputs": []
    },
    {
      "cell_type": "code",
      "source": [
        "a = list(map(int, input(\"Enter the list elements: \").split()))\n",
        "\n",
        "ascending = all(a[i] <= a[i + 1] for i in range(len(a) - 1))\n",
        "descending = all(a[i] >= a[i + 1] for i in range(len(a) - 1))\n",
        "\n",
        "if ascending:\n",
        "    print(\"Sorted in ascending order\")\n",
        "elif descending:\n",
        "    print(\"Sorted in descending order\")\n",
        "else:\n",
        "    print(\"Not sorted\")\n"
      ],
      "metadata": {
        "id": "fN4NHGtQZqzV"
      },
      "execution_count": null,
      "outputs": []
    },
    {
      "cell_type": "code",
      "source": [
        "def merge_sorted_lists(list1, list2):\n",
        "    merged = []\n",
        "    i = j = 0\n",
        "\n",
        "    while i < len(list1) and j < len(list2):\n",
        "        if list1[i] <= list2[j]:\n",
        "            merged.append(list1[i])\n",
        "            i += 1\n",
        "        else:\n",
        "            merged.append(list2[j])\n",
        "            j += 1\n",
        "\n",
        "    merged.extend(list1[i:])\n",
        "    merged.extend(list2[j:])\n",
        "\n",
        "    return merged\n",
        "\n",
        "list1 = list(map(int, input(\"Enter the first sorted list: \").split()))\n",
        "list2 = list(map(int, input(\"Enter the second sorted list: \").split()))\n",
        "\n",
        "print(merge_sorted_lists(list1, list2))\n"
      ],
      "metadata": {
        "id": "H3VR34ooaQY3"
      },
      "execution_count": null,
      "outputs": []
    },
    {
      "cell_type": "code",
      "source": [
        "list1 = list(map(int, input(\"Enter the first list: \").split()))\n",
        "list2 = list(map(int, input(\"Enter the second list: \").split()))\n",
        "\n",
        "intersection = []\n",
        "for item in list1:\n",
        "    if item in list2 and item not in intersection:\n",
        "        intersection.append(item)\n",
        "\n",
        "print(intersection)\n"
      ],
      "metadata": {
        "id": "TjgJLdTcc7Ur"
      },
      "execution_count": null,
      "outputs": []
    },
    {
      "cell_type": "code",
      "source": [
        "import ast\n",
        "\n",
        "list1 = ast.literal_eval(input(\"Enter the first list: \"))\n",
        "list2 = ast.literal_eval(input(\"Enter the second list: \"))\n",
        "\n",
        "union = []\n",
        "\n",
        "for item in list1:\n",
        "    if item not in union:\n",
        "        union.append(item)\n",
        "\n",
        "for item in list2:\n",
        "    if item not in union:\n",
        "        union.append(item)\n",
        "\n",
        "print(union)"
      ],
      "metadata": {
        "id": "MiS1UWsvdWvz"
      },
      "execution_count": null,
      "outputs": []
    },
    {
      "cell_type": "code",
      "source": [
        "import random\n",
        "\n",
        "def shuffle_list(lst):\n",
        "    n = len(lst)\n",
        "    for i in range(n - 1, 0, -1):\n",
        "        j = random.randint(0, i)\n",
        "        lst[i], lst[j] = lst[j], lst[i]\n",
        "\n",
        "    return lst\n",
        "\n",
        "lst = eval(input(\"Enter the list to shuffle: \"))\n",
        "print(shuffle_list(lst))\n"
      ],
      "metadata": {
        "id": "p-ljL5_RfK0c"
      },
      "execution_count": null,
      "outputs": []
    },
    {
      "cell_type": "code",
      "source": [
        "tuple1 = eval(input(\"Enter the first tuple: \"))\n",
        "tuple2 = eval(input(\"Enter the second tuple: \"))\n",
        "\n",
        "common_elements = tuple(item for item in tuple1 if item in tuple2)\n",
        "\n",
        "print(common_elements)\n"
      ],
      "metadata": {
        "id": "dEw-TFb_hqff"
      },
      "execution_count": null,
      "outputs": []
    },
    {
      "cell_type": "code",
      "source": [
        "set1 = set(map(int, input(\"Enter the first set of integers separated by commas: \").split(',')))\n",
        "set2 = set(map(int, input(\"Enter the second set of integers separated by commas: \").split(',')))\n",
        "\n",
        "intersection = set1 & set2\n",
        "\n",
        "print(intersection)\n"
      ],
      "metadata": {
        "id": "Havml6DTihu_"
      },
      "execution_count": null,
      "outputs": []
    },
    {
      "cell_type": "code",
      "source": [
        "def concatenate_tuples(tuple1, tuple2):\n",
        "    return tuple1 + tuple2\n",
        "\n",
        "tuple1 = eval(input(\"Enter the first tuple: \"))\n",
        "tuple2 = eval(input(\"Enter the second tuple: \"))\n",
        "\n",
        "result = concatenate_tuples(tuple1, tuple2)\n",
        "print(result)\n"
      ],
      "metadata": {
        "id": "EiQTMF4wj2pR"
      },
      "execution_count": null,
      "outputs": []
    },
    {
      "cell_type": "code",
      "source": [
        "set1 = set(input(\"Enter the first set of strings (separated by spaces): \").split())\n",
        "set2 = set(input(\"Enter the second set of strings (separated by spaces): \").split())\n",
        "difference = set1 - set2\n",
        "print(\"Elements in the first set but not in the second set:\", difference)\n"
      ],
      "metadata": {
        "id": "c-Awx0sLj-k2"
      },
      "execution_count": null,
      "outputs": []
    },
    {
      "cell_type": "code",
      "source": [
        "def get_elements_in_range(tup, start, end):\n",
        "    return tup[start:end]\n",
        "\n",
        "tup = tuple(input(\"Enter tuple elements separated by commas: \").split(','))\n",
        "start = int(input(\"Enter start index: \"))\n",
        "end = int(input(\"Enter end index: \"))\n",
        "result = get_elements_in_range(tup, start, end)\n",
        "print(result)\n"
      ],
      "metadata": {
        "id": "qHQbxnF2ogyB"
      },
      "execution_count": null,
      "outputs": []
    },
    {
      "cell_type": "code",
      "source": [
        "input1 = input(\"Enter the first set of characters (separated by spaces): \")\n",
        "set1 = set(input1.split())\n",
        "\n",
        "input2 = input(\"Enter the second set of characters (separated by spaces): \")\n",
        "set2 = set(input2.split())\n",
        "\n",
        "union_set = set1 | set2\n",
        "\n",
        "print(\"The union of the two sets is:\", union_set)\n"
      ],
      "metadata": {
        "id": "-8HcIOALo8r_"
      },
      "execution_count": null,
      "outputs": []
    },
    {
      "cell_type": "code",
      "source": [
        "tup = tuple(map(int, input().split()))\n",
        "max_val = max(tup)\n",
        "min_val = min(tup)\n",
        "print(\"Maximum value:\", max_val)\n",
        "print(\"Minimum value:\", min_val)\n"
      ],
      "metadata": {
        "id": "7cmO12uLppRB"
      },
      "execution_count": null,
      "outputs": []
    },
    {
      "cell_type": "code",
      "source": [
        "set1 = {1, 2, 3, 4, 5}\n",
        "set2 = {4, 5, 6, 7, 8}\n",
        "\n",
        "print(\"Union:\", set1 | set2)\n",
        "print(\"Intersection:\", set1 & set2)\n",
        "print(\"Difference (set1 - set2):\", set1 - set2)\n",
        "print(\"Difference (set2 - set1):\", set2 - set1)\n"
      ],
      "metadata": {
        "id": "0cy1G1UmqScX"
      },
      "execution_count": null,
      "outputs": []
    },
    {
      "cell_type": "code",
      "source": [
        "tup = tuple(input(\"Enter tuple elements separated by spaces: \").split())\n",
        "element = input(\"Enter the element to count: \")\n",
        "count = tup.count(element)\n",
        "print(\"Count of occurrences:\", count)"
      ],
      "metadata": {
        "id": "K7UadwWmqfK1"
      },
      "execution_count": null,
      "outputs": []
    },
    {
      "cell_type": "code",
      "source": [
        "set1 = set(input(\"Enter the first set of strings (separated by spaces): \").split())\n",
        "set2 = set(input(\"Enter the second set of strings (separated by spaces): \").split())\n",
        "symmetric_difference = set1 ^ set2\n",
        "print(\"Symmetric difference:\", symmetric_difference)\n"
      ],
      "metadata": {
        "id": "g2otX2yasCg1"
      },
      "execution_count": null,
      "outputs": []
    },
    {
      "cell_type": "code",
      "source": [
        "input_words = input(\"Enter a list of words separated by spaces: \").split()\n",
        "frequency_dict = {}\n",
        "for word in input_words:\n",
        "    if word in frequency_dict:\n",
        "        frequency_dict[word] += 1\n",
        "    else:\n",
        "        frequency_dict[word] = 1\n",
        "print(\"Word frequencies:\", frequency_dict)\n"
      ],
      "metadata": {
        "id": "-dPRL7UiszH9"
      },
      "execution_count": null,
      "outputs": []
    },
    {
      "cell_type": "code",
      "source": [
        "dict1 = eval(input(\"Enter the first dictionary (e.g., {'a': 1, 'b': 2}): \"))\n",
        "dict2 = eval(input(\"Enter the second dictionary (e.g., {'b': 3, 'c': 4}): \"))\n",
        "merged_dict = dict1.copy()\n",
        "for key, value in dict2.items():\n",
        "    if key in merged_dict:\n",
        "        merged_dict[key] += value\n",
        "    else:\n",
        "        merged_dict[key] = value\n",
        "print(\"Merged dictionary:\", merged_dict)\n"
      ],
      "metadata": {
        "id": "tl9vWMfytbtp"
      },
      "execution_count": null,
      "outputs": []
    },
    {
      "cell_type": "code",
      "source": [
        "nested_dict = {'a': {'b': {'c': 10}}}\n",
        "keys = input(\"Enter the list of keys separated by spaces: \").split()\n",
        "value = nested_dict\n",
        "for key in keys:\n",
        "    if isinstance(value, dict) and key in value:\n",
        "        value = value[key]\n",
        "    else:\n",
        "        value = None\n",
        "        break\n",
        "print(\"Value:\", value)\n"
      ],
      "metadata": {
        "id": "hNQev36OufvZ"
      },
      "execution_count": null,
      "outputs": []
    },
    {
      "cell_type": "code",
      "source": [
        "d = eval(input(\"Enter the dictionary (e.g., {'a': 3, 'b': 1, 'c': 2}): \"))\n",
        "order = input(\"Enter 'asc' for ascending or 'desc' for descending: \")\n",
        "\n",
        "items = list(d.items())\n",
        "\n",
        "def get_value(item):\n",
        "    return item[1]\n",
        "\n",
        "if order == 'asc':\n",
        "    sorted_items = sorted(items, key=get_value)\n",
        "\n",
        "    sorted_dict = dict(sorted_items)\n",
        "    print(\"Sorted dictionary:\", sorted_dict)\n",
        "elif order == 'desc':\n",
        "    sorted_items = sorted(items, key=get_value, reverse=True)\n",
        "    sorted_dict = dict(sorted_items)\n",
        "    print(\"Sorted dictionary:\", sorted_dict)\n",
        "else :\n",
        "     print(\"Invalid order\")\n",
        "\n"
      ],
      "metadata": {
        "id": "_HeQm7t5vUgC"
      },
      "execution_count": null,
      "outputs": []
    },
    {
      "cell_type": "code",
      "source": [
        "d = eval(input(\"Enter the dictionary (e.g., {'a': 1, 'b': 2, 'c': 1}): \"))\n",
        "\n",
        "inverted_dict = {}\n",
        "for key, value in d.items():\n",
        "    if value in inverted_dict:\n",
        "        inverted_dict[value].append(key)\n",
        "    else:\n",
        "        inverted_dict[value] = [key]\n",
        "\n",
        "print(\"Inverted dictionary:\", inverted_dict)\n"
      ],
      "metadata": {
        "id": "CPiz3zVvx-oL"
      },
      "execution_count": null,
      "outputs": []
    }
  ]
}