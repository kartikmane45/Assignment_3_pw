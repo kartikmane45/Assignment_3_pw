{
  "nbformat": 4,
  "nbformat_minor": 0,
  "metadata": {
    "colab": {
      "provenance": [],
      "authorship_tag": "ABX9TyN76aoAqhYG67kObGSX8cfX",
      "include_colab_link": true
    },
    "kernelspec": {
      "name": "python3",
      "display_name": "Python 3"
    },
    "language_info": {
      "name": "python"
    }
  },
  "cells": [
    {
      "cell_type": "markdown",
      "metadata": {
        "id": "view-in-github",
        "colab_type": "text"
      },
      "source": [
        "<a href=\"https://colab.research.google.com/github/kartikmane45/physics_wallah_skills_assignments/blob/main/module_2_Python_Baiscs_Assignment.ipynb\" target=\"_parent\"><img src=\"https://colab.research.google.com/assets/colab-badge.svg\" alt=\"Open In Colab\"/></a>"
      ]
    },
    {
      "cell_type": "markdown",
      "source": [
        "**THEORY QUESTION**"
      ],
      "metadata": {
        "id": "K5yvFAzwnm4J"
      }
    },
    {
      "cell_type": "markdown",
      "source": [
        "**1.Explain the key features of Python that make it a popular choice for programming?**"
      ],
      "metadata": {
        "id": "4WQwVpUinpkP"
      }
    },
    {
      "cell_type": "markdown",
      "source": [
        "=> Simple and Readable Syntax: Python's syntax is clean and easy to learn, making it beginner-friendly.\n",
        "Interpreted Language: Python executes code line by line, making debugging easier.\n",
        "Dynamically Typed: No need to declare variable types explicitly.\n",
        "Extensive Libraries: A large collection of libraries for diverse tasks (e.g., NumPy, Pandas, Matplotlib).\n",
        "Cross-Platform: Python runs on multiple platforms (Windows, Mac, Linux).\n",
        "Community Support: Python has a vast community providing tutorials, tools, and resources."
      ],
      "metadata": {
        "id": "Fwxf7rIhnxUQ"
      }
    },
    {
      "cell_type": "markdown",
      "source": [
        "**2. Describe the role of predefined keywords in Python and provide examples of how they are used in a\n",
        "program**"
      ],
      "metadata": {
        "id": "CEo6HHbqoM9x"
      }
    },
    {
      "cell_type": "markdown",
      "source": [
        "=>Predefined keywords are reserved words that have special meanings and cannot be used as identifiers. Examples include if, for, while, def, and return."
      ],
      "metadata": {
        "id": "ot_gwKFtoZUE"
      }
    },
    {
      "cell_type": "code",
      "source": [
        "if True:\n",
        "    print(\"Hello, World!\")\n"
      ],
      "metadata": {
        "id": "wg7EsZCboiQV"
      },
      "execution_count": null,
      "outputs": []
    },
    {
      "cell_type": "markdown",
      "source": [
        "**3.Compare and contrast mutable and immutable objects in Python with examples**"
      ],
      "metadata": {
        "id": "wqFBKqxeo1_e"
      }
    },
    {
      "cell_type": "markdown",
      "source": [
        "=>"
      ],
      "metadata": {
        "id": "nd4YrA-7o5Ov"
      }
    },
    {
      "cell_type": "code",
      "source": [
        "#Mutable Objects: Can be changed after creation (e.g., lists, dictionaries)\n",
        "lst = [1, 2, 3]\n",
        "lst.append(4)  # Changes list\n",
        "print(lst)  # Output: [1, 2, 3, 4]"
      ],
      "metadata": {
        "id": "tw4HjIdHo-g1"
      },
      "execution_count": null,
      "outputs": []
    },
    {
      "cell_type": "code",
      "source": [
        "Immutable Objects: Cannot be changed after creation (e.g., strings, tuples).\n",
        "text = \"Hello\"\n",
        "text[0] = 'h'  # Error: Strings are immutable"
      ],
      "metadata": {
        "id": "5FG66VxVpKZg"
      },
      "execution_count": null,
      "outputs": []
    },
    {
      "cell_type": "markdown",
      "source": [
        "**4. Discuss the different types of operators in Python and provide examples of how they are used**"
      ],
      "metadata": {
        "id": "kTggfFpXpPfn"
      }
    },
    {
      "cell_type": "markdown",
      "source": [
        "=> Types of Operators in Python\n",
        "Arithmetic Operators: +, -, *, / (e.g., 3 + 2 = 5).\n",
        "Comparison Operators: ==, !=, >, < (e.g., 5 > 3 is True).\n",
        "Logical Operators: and, or, not (e.g., True and False is False).\n",
        "Assignment Operators: =, +=, -= (e.g., x = 5, x += 2 results in x = 7).\n",
        "Bitwise Operators: &, |, ^ (e.g., 5 & 3 results in 1)."
      ],
      "metadata": {
        "id": "HV_NMsYOpRnL"
      }
    },
    {
      "cell_type": "markdown",
      "source": [
        "**5.xplain the concept of type casting in Python with examples**"
      ],
      "metadata": {
        "id": "78BpGjWIpbhx"
      }
    },
    {
      "cell_type": "markdown",
      "source": [
        "=> Type casting converts one data type to another."
      ],
      "metadata": {
        "id": "0THPy04tpgC4"
      }
    },
    {
      "cell_type": "code",
      "source": [
        "num = \"10\"\n",
        "num_int = int(num)  # Converts string to integer\n",
        "print(num_int + 5)  # Output: 15"
      ],
      "metadata": {
        "id": "6kIFodcnpi8G"
      },
      "execution_count": null,
      "outputs": []
    },
    {
      "cell_type": "markdown",
      "source": [
        "**6.How do conditional statements work in Python? Illustrate with examples**"
      ],
      "metadata": {
        "id": "dyalWMvtpqEh"
      }
    },
    {
      "cell_type": "code",
      "source": [
        "#Conditional statements (if, elif, else) control the flow of the program based on conditions.\n",
        "x = 10\n",
        "if x > 5:\n",
        "    print(\"Greater\")\n",
        "elif x == 5:\n",
        "    print(\"Equal\")\n",
        "else:\n",
        "    print(\"Smaller\")"
      ],
      "metadata": {
        "id": "Sdzw8LvRpv1s"
      },
      "execution_count": null,
      "outputs": []
    },
    {
      "cell_type": "markdown",
      "source": [
        "**7. Describe the different types of loops in Python and their use cases with examples.**"
      ],
      "metadata": {
        "id": "q7uX2F5yp1fz"
      }
    },
    {
      "cell_type": "code",
      "source": [
        "#for Loop: Iterates over sequences like lists or strings\n",
        "for i in range(5):\n",
        "    print(i)"
      ],
      "metadata": {
        "id": "udIbLiqOp-D8"
      },
      "execution_count": null,
      "outputs": []
    },
    {
      "cell_type": "code",
      "source": [
        "# while Loop: Repeats as long as a condition is true\n",
        "i = 0\n",
        "while i < 5:\n",
        "    print(i)\n",
        "    i += 1"
      ],
      "metadata": {
        "id": "kuZxW43fqDHK"
      },
      "execution_count": null,
      "outputs": []
    }
  ]
}